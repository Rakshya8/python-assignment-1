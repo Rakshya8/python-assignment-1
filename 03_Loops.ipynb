{
 "cells": [
  {
   "cell_type": "markdown",
   "metadata": {},
   "source": [
    "# Loops in Python"
   ]
  },
  {
   "cell_type": "markdown",
   "metadata": {},
   "source": [
    "*** There are two types of loops in Python***\n",
    "- for\n",
    "- while."
   ]
  },
  {
   "cell_type": "markdown",
   "metadata": {},
   "source": [
    "## For loop"
   ]
  },
  {
   "cell_type": "markdown",
   "metadata": {},
   "source": [
    "For Loop\n",
    "Python's for takes an iterable (such as a  sequence or iterator) and traverses each element once.\n",
    "\n",
    "Example 1 :-\n",
    "```python\n",
    "for i in range(0,4):\n",
    "       print(i)\n",
    "```\n",
    "\n",
    "Example 2 :-\n",
    "```python\n",
    "for i in [1,2,3,4]:\n",
    "       print(i)\n",
    "```\n",
    "Example 3:-\n",
    "```python\n",
    "for i in (1,2,3,4):\n",
    "       print(i)\n",
    "```\n",
    "** Try for dictionary**"
   ]
  },
  {
   "cell_type": "code",
   "execution_count": 1,
   "metadata": {},
   "outputs": [
    {
     "name": "stdout",
     "output_type": "stream",
     "text": [
      "11 : 0\n",
      "12 : 1\n",
      "13 : 2\n",
      "14 : 3\n"
     ]
    }
   ],
   "source": [
    "l = [11,12,13,14]\n",
    "i=0\n",
    "for j in l:\n",
    "    print(j, \":\",i )\n",
    "    i=i+ 1\n"
   ]
  },
  {
   "cell_type": "code",
   "execution_count": 2,
   "metadata": {},
   "outputs": [
    {
     "name": "stdout",
     "output_type": "stream",
     "text": [
      "0 : 11\n",
      "1 : 12\n",
      "2 : 13\n",
      "3 : 14\n"
     ]
    }
   ],
   "source": [
    "l = [11 , 12 , 13, 14]\n",
    "for i in range (0, len(l)):\n",
    "    print  (i, ':' , l[i])"
   ]
  },
  {
   "cell_type": "code",
   "execution_count": 8,
   "metadata": {},
   "outputs": [
    {
     "name": "stdout",
     "output_type": "stream",
     "text": [
      "1 : 11\n",
      "2 : 12\n",
      "3 : 13\n",
      "4 : 14\n"
     ]
    }
   ],
   "source": [
    "for index , numbers in enumerate (l , start=1):\n",
    "    print (index, \":\" , numbers)"
   ]
  },
  {
   "cell_type": "markdown",
   "metadata": {},
   "source": [
    "## \"while\" loops"
   ]
  },
  {
   "cell_type": "markdown",
   "metadata": {},
   "source": [
    "Syntax: \n",
    "```python\n",
    "while expression:\n",
    "      while_suite\n",
    "```\n",
    "\n",
    "- The statement `while_suite` is executed continuously in a loop until the expression becomes zero or false"
   ]
  },
  {
   "cell_type": "code",
   "execution_count": 10,
   "metadata": {},
   "outputs": [
    {
     "name": "stdout",
     "output_type": "stream",
     "text": [
      "0\n",
      "1\n",
      "2\n",
      "3\n",
      "4\n",
      "5\n",
      "6\n",
      "7\n",
      "8\n",
      "9\n",
      "10\n"
     ]
    }
   ],
   "source": [
    "counter = 0\n",
    "while counter <=10: \n",
    "    print (counter)\n",
    "    counter= counter +1\n"
   ]
  },
  {
   "cell_type": "markdown",
   "metadata": {},
   "source": [
    "## Nested Loops\n",
    "Example:-\n",
    "```python\n",
    "for i in range(0,9):\n",
    "    for j in range (1,5):\n",
    "        for k in range (1,3)\n",
    "            pass\n",
    "```\n",
    "- You can put any type of `loop` inside of any other type of loop. \n",
    "- For example a for loop can be inside a while loop or vice versa."
   ]
  },
  {
   "cell_type": "code",
   "execution_count": 34,
   "metadata": {},
   "outputs": [
    {
     "name": "stdout",
     "output_type": "stream",
     "text": [
      "0\n",
      "1\n",
      "*******\n",
      "1\n",
      "2\n",
      "*******\n",
      "2\n",
      "3\n",
      "*******\n",
      "3\n",
      "7\n",
      "*******\n",
      "4\n",
      "9\n",
      "*******\n",
      "0\n",
      "4\n",
      "*******\n",
      "1\n",
      "5\n",
      "*******\n",
      "2\n",
      "6\n",
      "*******\n",
      "3\n",
      "8\n",
      "*******\n",
      "0\n",
      "7\n",
      "*******\n",
      "1\n",
      "8\n",
      "*******\n",
      "2\n",
      "9\n",
      "*******\n"
     ]
    }
   ],
   "source": [
    "my_list = [[1, 2, 3, 7, 9], [4, 5, 6 , 8], [7, 8, 9]]\n",
    "for i in my_list:\n",
    "    for j in range (0 , len(i)):\n",
    "        print(j)\n",
    "        print (i[j])\n",
    "        print(\"*******\")"
   ]
  },
  {
   "cell_type": "markdown",
   "metadata": {},
   "source": [
    "### Loops control statements"
   ]
  },
  {
   "cell_type": "markdown",
   "metadata": {},
   "source": [
    "- Loop control statements change execution from its normal sequence\n",
    "- Python supports the following control statements\n",
    "    - break statement\n",
    "    - continue statement\n",
    "    - pass statement"
   ]
  },
  {
   "cell_type": "markdown",
   "metadata": {},
   "source": [
    "### break\n",
    "- It terminates the current loop and resumes execution at the next statement immediately after the loop\n",
    "- Can be used in  both for and while loop\n",
    "- break statement stops the execution of the innermost loop if we are using nested loop"
   ]
  },
  {
   "cell_type": "code",
   "execution_count": 62,
   "metadata": {},
   "outputs": [
    {
     "name": "stdout",
     "output_type": "stream",
     "text": [
      "1\n",
      "2\n"
     ]
    }
   ],
   "source": [
    "l = [1, 2, 3]\n",
    "for i in range(0,len(l)):\n",
    "    if l[i] == 3:\n",
    "        break\n",
    "    print (l[i])"
   ]
  },
  {
   "cell_type": "code",
   "execution_count": null,
   "metadata": {},
   "outputs": [],
   "source": [
    "t = (1, 2, 3, 5, 6, \"8\", 7, 2, 4,5,0)\n",
    "for i in range(1, len (t)):\n",
    "    print ()\n"
   ]
  },
  {
   "cell_type": "markdown",
   "metadata": {},
   "source": [
    "### Continue statement\n",
    "- Skips the remainder of the loop and immediately retest its condition prior to reiterating."
   ]
  },
  {
   "cell_type": "code",
   "execution_count": 63,
   "metadata": {},
   "outputs": [
    {
     "name": "stdout",
     "output_type": "stream",
     "text": [
      "[1, 2, 3]\n",
      "1\n",
      "3\n"
     ]
    }
   ],
   "source": [
    "print(l)\n",
    "for i in range (0 , len(l)):\n",
    "    if l[i] == 2:\n",
    "        continue\n",
    "    print(l[i])"
   ]
  },
  {
   "cell_type": "markdown",
   "metadata": {},
   "source": [
    "### pass statement\n",
    "- The pass statement in Python is used when a statement is required syntactically but you do not want any command or code to execute."
   ]
  },
  {
   "cell_type": "code",
   "execution_count": 68,
   "metadata": {},
   "outputs": [
    {
     "name": "stdout",
     "output_type": "stream",
     "text": [
      "1\n",
      "before pass\n",
      "after pass\n",
      "2\n",
      "3\n",
      "4\n",
      "5\n",
      "6\n"
     ]
    }
   ],
   "source": [
    "l= [1 , 2 , 3 , 4 , 5 , 6]\n",
    "for items in l:\n",
    "    if items == 2:\n",
    "        print (\"before pass\")\n",
    "        pass\n",
    "        print (\"after pass\")\n",
    "    print (items)\n",
    "#do nothing (pass not necessary)\n",
    "    \n"
   ]
  },
  {
   "cell_type": "code",
   "execution_count": null,
   "metadata": {},
   "outputs": [],
   "source": []
  }
 ],
 "metadata": {
  "kernelspec": {
   "display_name": "Python 3",
   "language": "python",
   "name": "python3"
  },
  "language_info": {
   "codemirror_mode": {
    "name": "ipython",
    "version": 3
   },
   "file_extension": ".py",
   "mimetype": "text/x-python",
   "name": "python",
   "nbconvert_exporter": "python",
   "pygments_lexer": "ipython3",
   "version": "3.7.1"
  }
 },
 "nbformat": 4,
 "nbformat_minor": 1
}
